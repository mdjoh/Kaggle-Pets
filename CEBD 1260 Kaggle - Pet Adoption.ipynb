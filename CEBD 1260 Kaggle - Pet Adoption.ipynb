{
 "cells": [
  {
   "cell_type": "markdown",
   "metadata": {},
   "source": [
    "# Pet Adoption Classification"
   ]
  },
  {
   "cell_type": "markdown",
   "metadata": {},
   "source": [
    "## Problem Definition\n",
    "Predict pet adoption speed. Adoption speed is expressed as ranges of number of days (ie. classes labeled 0, 1, 2, 3, 4)."
   ]
  },
  {
   "cell_type": "code",
   "execution_count": null,
   "metadata": {},
   "outputs": [],
   "source": [
    "# import necessary libraries\n",
    "%matplotlib inline\n",
    "\n",
    "import pandas as pd\n",
    "import numpy as np\n",
    "import matplotlib.pyplot as plt\n",
    "import seaborn as sns\n",
    "\n",
    "sns.set_style('whitegrid')"
   ]
  },
  {
   "cell_type": "markdown",
   "metadata": {},
   "source": [
    "## Load Data"
   ]
  },
  {
   "cell_type": "code",
   "execution_count": null,
   "metadata": {},
   "outputs": [],
   "source": [
    "df_train = pd.read_csv('train.csv')\n",
    "df_test = pd.read_csv('test.csv')\n",
    "print(df_train.shape, df_test.shape)"
   ]
  },
  {
   "cell_type": "markdown",
   "metadata": {},
   "source": [
    "## Clean Up and Examine Dataset"
   ]
  },
  {
   "cell_type": "code",
   "execution_count": null,
   "metadata": {},
   "outputs": [],
   "source": [
    "df_train = df_train.drop(['RescuerID', 'PetID'], axis=1)\n",
    "df_test = df_test.drop(['RescuerID', 'PetID'], axis=1)"
   ]
  },
  {
   "cell_type": "code",
   "execution_count": null,
   "metadata": {},
   "outputs": [],
   "source": [
    "# examine dataset for unique categorical values among applicable categorical features\n",
    "cat_cols = ['Type', 'Breed1', 'Breed2', 'Gender', 'Color1', 'Color2', 'Color3', 'MaturitySize', 'FurLength', 'Vaccinated', 'Dewormed',\\\n",
    "           'Sterilized', 'Health', 'Quantity', 'State']"
   ]
  },
  {
   "cell_type": "code",
   "execution_count": null,
   "metadata": {},
   "outputs": [],
   "source": [
    "# examine df_train\n",
    "print(df_train.columns)\n",
    "df_train.head()"
   ]
  },
  {
   "cell_type": "code",
   "execution_count": null,
   "metadata": {},
   "outputs": [],
   "source": [
    "# examine df_test\n",
    "print(df_test.columns)\n",
    "df_test.head()"
   ]
  },
  {
   "cell_type": "markdown",
   "metadata": {},
   "source": [
    "## Missing Values"
   ]
  },
  {
   "cell_type": "code",
   "execution_count": null,
   "metadata": {},
   "outputs": [],
   "source": [
    "# see how many missing values exist and where they are\n",
    "print('Train:')\n",
    "print(df_train.isnull().sum())\n",
    "print('')\n",
    "print('Test:')\n",
    "print(df_test.isnull().sum())"
   ]
  },
  {
   "cell_type": "markdown",
   "metadata": {},
   "source": [
    "## Feature Engineering"
   ]
  },
  {
   "cell_type": "code",
   "execution_count": null,
   "metadata": {},
   "outputs": [],
   "source": [
    "# examine unique elements and the number of unique elements per categorical feature\n",
    "print(df.groupby('Type').nunique())\n",
    "print('')\n"
   ]
  },
  {
   "cell_type": "code",
   "execution_count": null,
   "metadata": {},
   "outputs": [],
   "source": [
    "# one-hot encode relevant categorical columns in train dataset\n",
    "df_type = pd.get_dummies(df['Type'], prefix='Type')\n",
    "df_train = pd.concat([df_train, df_type], axis=1)\n",
    "\n",
    "df_breed1 = pd.get_dummies(df['Breed1'], prefix='Breed1')\n",
    "df_train = pd.concat([df_train, df_breed1], axis=1)\n",
    "\n",
    "df_breed2 = pd.get_dummies(df['Breed2'], prefix='Breed2')\n",
    "df_train = pd.concat([df_train, df_breed2], axis=1)\n",
    "\n",
    "df_gender = pd.get_dummies(df['Gender'], prefix='Gender')\n",
    "df_train = pd.concat([df_train, df_gender], axis=1)\n",
    "\n",
    "df_color1 = pd.get_dummies(df['Color1'], prefix='Color1')\n",
    "df_train = pd.concat([df_train, df_color1], axis=1)\n",
    "\n",
    "df_color2 = pd.get_dummies(df['Color2'], prefix='Color2')\n",
    "df_train = pd.concat([df_train, df_color2], axis=1)\n",
    "\n",
    "df_color3 = pd.get_dummies(df['Color3'], prefix='Color3')\n",
    "df_train = pd.concat([df_train, df_color3], axis=1)\n",
    "\n",
    "df_size = pd.get_dummies(df['MaturitySize'], prefix='MatSize')\n",
    "df_train = pd.concat([df_train, df_size], axis=1)\n",
    "\n",
    "df_furlength = pd.get_dummies(df['FurLength'], prefix='FurLength')\n",
    "df_train = pd.concat([df_train, df_furlength], axis=1)\n",
    "\n",
    "df_vaccinated = pd.get_dummies(df['Vaccinated'], prefix='Vaccinated')\n",
    "df_train = pd.concat([df_train, df_vaccinated], axis=1)\n",
    "\n",
    "df_dewormed = pd.get_dummies(df['Dewormed'], prefix='Dewormed')\n",
    "df_train = pd.concat([df_train, df_dewormed], axis=1)\n",
    "\n",
    "df_sterilized = pd.get_dummies(df['Sterilized'], prefix='Sterilized')\n",
    "df_train = pd.concat([df_train, df_sterilized], axis=1)\n",
    "\n",
    "df_health = pd.get_dummies(df['Health'], prefix='Health')\n",
    "df_train = pd.concat([df_train, df_health], axis=1)\n",
    "\n",
    "df_quantity = pd.get_dummies(df['Quantity'], prefix='Quantity')\n",
    "df_train = pd.concat([df_train, df_quantity], axis=1)\n",
    "\n",
    "df_state = pd.get_dummies(df['State'], prefix='State')\n",
    "df_train = pd.concat([df_train, df_state], axis=1)"
   ]
  },
  {
   "cell_type": "code",
   "execution_count": null,
   "metadata": {},
   "outputs": [],
   "source": [
    "# one-hot encode relevant categorical columns in test dataset\n",
    "df_test_type = pd.get_dummies(df['Type'], prefix='Type')\n",
    "df_test = pd.concat([df_test, df_test_type], axis=1)\n",
    "\n",
    "df_test_breed1 = pd.get_dummies(df['Breed1'], prefix='Breed1')\n",
    "df_test = pd.concat([df_test, df_test_breed1], axis=1)\n",
    "\n",
    "df_test_breed2 = pd.get_dummies(df['Breed2'], prefix='Breed2')\n",
    "df_test = pd.concat([df_test, df_test_breed2], axis=1)\n",
    "\n",
    "df_test_gender = pd.get_dummies(df['Gender'], prefix='Gender')\n",
    "df_test = pd.concat([df_test, df_test_gender], axis=1)\n",
    "\n",
    "df_test_color1 = pd.get_dummies(df['Color1'], prefix='Color1')\n",
    "df_test = pd.concat([df_test, df_test_color1], axis=1)\n",
    "\n",
    "df_test_color2 = pd.get_dummies(df['Color2'], prefix='Color2')\n",
    "df_test = pd.concat([df_test, df_test_color2], axis=1)\n",
    "\n",
    "df_test_color3 = pd.get_dummies(df['Color3'], prefix='Color3')\n",
    "df_test = pd.concat([df_test, df_test_color3], axis=1)\n",
    "\n",
    "df_test_size = pd.get_dummies(df['MaturitySize'], prefix='MatSize')\n",
    "df_test = pd.concat([df_test, df_test_size], axis=1)\n",
    "\n",
    "df_test_furlength = pd.get_dummies(df['FurLength'], prefix='FurLength')\n",
    "df_test = pd.concat([df_test, df_test_furlength], axis=1)\n",
    "\n",
    "df_test_vaccinated = pd.get_dummies(df['Vaccinated'], prefix='Vaccinated')\n",
    "df_test = pd.concat([df_test, df_test_vaccinated], axis=1)\n",
    "\n",
    "df_test_dewormed = pd.get_dummies(df['Dewormed'], prefix='Dewormed')\n",
    "df_test = pd.concat([df_test, df_test_dewormed], axis=1)\n",
    "\n",
    "df_test_sterilized = pd.get_dummies(df['Sterilized'], prefix='Sterilized')\n",
    "df_test = pd.concat([df_test, df_test_sterilized], axis=1)\n",
    "\n",
    "df_test_health = pd.get_dummies(df['Health'], prefix='Health')\n",
    "df_test = pd.concat([df_test, df_test_health], axis=1)\n",
    "\n",
    "df_test_quantity = pd.get_dummies(df['Quantity'], prefix='Quantity')\n",
    "df_test = pd.concat([df_test, df_test_quantity], axis=1)\n",
    "\n",
    "df_test_state = pd.get_dummies(df['State'], prefix='State')\n",
    "df_test = pd.concat([df_test, df_test_state], axis=1)"
   ]
  },
  {
   "cell_type": "markdown",
   "metadata": {},
   "source": [
    "## Model Training"
   ]
  },
  {
   "cell_type": "code",
   "execution_count": null,
   "metadata": {},
   "outputs": [],
   "source": [
    "# import model utils, training, evaluation libraries\n",
    "\n",
    "# sklearn :: utils\n",
    "from sklearn.model_selection import train_test_split\n",
    "from sklearn.metrics import confusion_matrix\n",
    "from sklearn.metrics import precision_score\n",
    "from sklearn.metrics import recall_score\n",
    "from sklearn.model_selection import KFold\n",
    "\n",
    "# sklearn :: models\n",
    "from sklearn.neighbors import KNeighborsClassifier\n",
    "from sklearn.naive_bayes import GaussianNB\n",
    "from sklearn.ensemble import RandomForestClassifier\n",
    "from sklearn.tree import DecisionTreeClassifier\n",
    "\n",
    "# sklearn :: evaluation metrics\n",
    "from sklearn.metrics import cohen_kappa_score"
   ]
  },
  {
   "cell_type": "code",
   "execution_count": null,
   "metadata": {},
   "outputs": [],
   "source": [
    "# select the columns\n",
    "X_columns = ['Age', 'Fee', 'Health_1', 'Health_2', 'Health_3']\n",
    "y_column = ['AdoptionSpeed']"
   ]
  },
  {
   "cell_type": "code",
   "execution_count": null,
   "metadata": {},
   "outputs": [],
   "source": [
    "# split the data using sklearn\n",
    "threshold = 0.8\n",
    "X = df_train[X_columns]\n",
    "y = df_train[y_column]\n",
    "X_train, X_test, y_train, y_test = train_test_split(X, y, test_size=1.0-threshold, shuffle=True)\n",
    "\n",
    "print('X_train', X_train.shape)\n",
    "print('y_train', y_train.shape)\n",
    "print('X_test', X_test.shape)\n",
    "print('y_test', y_test.shape)"
   ]
  },
  {
   "cell_type": "markdown",
   "metadata": {},
   "source": [
    "## Model Evaluation"
   ]
  },
  {
   "cell_type": "code",
   "execution_count": null,
   "metadata": {},
   "outputs": [],
   "source": [
    "# plot of predicted vs actual adoption speed class"
   ]
  },
  {
   "cell_type": "code",
   "execution_count": null,
   "metadata": {},
   "outputs": [],
   "source": [
    "# evaluation scoring\n",
    "kappa = cohen_kappa_score(y_test, y_pred, weights ='quadratic')\n",
    "print('kappa', round(kappa, 4))\n",
    "print(confusion_matrix(y_test, y_pred))"
   ]
  },
  {
   "cell_type": "code",
   "execution_count": null,
   "metadata": {},
   "outputs": [],
   "source": [
    "# Cross Validation\n",
    "k = 10\n",
    "results = []\n",
    "kf = KFold(n_splits=k)\n",
    "for train_index, test_index in kf.split(X):\n",
    "    X_train, X_test = X.values[train_index], X.values[test_index]\n",
    "    y_train, y_test = y.values[train_index], y.values[test_index]\n",
    "    model.fit(X_train, y_train.ravel())\n",
    "    y_pred = model.predict(X_test)\n",
    "    kappa = cohen_kappa_score(y_test, y_pred, weights ='quadratic')\n",
    "    results.append(round(kappa, 4))\n",
    "\n",
    "print('Kappa for each fold:', results)\n",
    "print('AVG(kappa)', round(np.mean(results), 4))\n",
    "print('STD(kappa)', round(np.std(results), 4))"
   ]
  },
  {
   "cell_type": "markdown",
   "metadata": {},
   "source": [
    "## Submission"
   ]
  },
  {
   "cell_type": "code",
   "execution_count": null,
   "metadata": {},
   "outputs": [],
   "source": []
  }
 ],
 "metadata": {
  "kernelspec": {
   "display_name": "Python 3",
   "language": "python",
   "name": "python3"
  },
  "language_info": {
   "codemirror_mode": {
    "name": "ipython",
    "version": 3
   },
   "file_extension": ".py",
   "mimetype": "text/x-python",
   "name": "python",
   "nbconvert_exporter": "python",
   "pygments_lexer": "ipython3",
   "version": "3.6.5"
  }
 },
 "nbformat": 4,
 "nbformat_minor": 2
}
